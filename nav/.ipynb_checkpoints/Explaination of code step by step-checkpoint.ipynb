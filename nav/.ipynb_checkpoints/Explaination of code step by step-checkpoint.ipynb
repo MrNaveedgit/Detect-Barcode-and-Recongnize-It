{
 "cells": [
  {
   "cell_type": "markdown",
   "metadata": {},
   "source": [
    "The general outline of the algorithm is to:\n",
    "\n",
    "1-Compute the Scharr gradient magnitude representations in both the x and y direction.<br>\n",
    "2-Subtract the y-gradient from the x-gradient to reveal the barcoded region.<br>\n",
    "3-Blur and threshold the image.<br>\n",
    "4-Apply a closing kernel to the thresholded image.<br>\n",
    "5-Perform a series of dilations and erosions.<br>\n",
    "6-Find the largest contour in the image, which is now presumably the barcode.<br>"
   ]
  },
  {
   "cell_type": "code",
   "execution_count": 9,
   "metadata": {},
   "outputs": [],
   "source": [
    "# USAGE\n",
    "# python detect_barcode.py --image images/barcode_01.jpg\n",
    "\n",
    "# import the necessary packages\n",
    "import numpy as np\n",
    "import argparse\n",
    "import imutils\n",
    "import cv2\n",
    "\n",
    "\n",
    "# load the image and convert it to grayscale\n",
    "image = cv2.imread(\"images/nav1.jpg\")\n",
    "gray = cv2.cvtColor(image, cv2.COLOR_BGR2GRAY)\n",
    "cv2.imshow(\"image\",image)\n",
    "cv2.imshow(\"gray\",gray)\n",
    "cv2.waitKey(0)\n",
    "cv2.destroyAllWindows()\n",
    "\n",
    "\n"
   ]
  },
  {
   "cell_type": "code",
   "execution_count": null,
   "metadata": {},
   "outputs": [],
   "source": []
  },
  {
   "cell_type": "code",
   "execution_count": 10,
   "metadata": {},
   "outputs": [],
   "source": [
    "# compute the Scharr gradient magnitude representation of the images\n",
    "# in both the x and y direction using OpenCV 2.4\n",
    "ddepth = cv2.cv.CV_32F if imutils.is_cv2() else cv2.CV_32F\n",
    "\n",
    "# we use the Scharr operator (specified using ksize = -1 ) to construct the gradient magnitude representation of the \n",
    "#grayscale image in the horizontal and vertical directions on\n",
    "gradX = cv2.Sobel(gray, ddepth=ddepth, dx=1, dy=0, ksize=-1)\n",
    "gradY = cv2.Sobel(gray, ddepth=ddepth, dx=0, dy=1, ksize=-1)\n",
    "\n",
    "# subtract the y-gradient from the x-gradient\n",
    "'''\n",
    "From there, we subtract the y-gradient of the Scharr operator from the x-gradient of the Scharr operator.\n",
    "By performing this subtraction we are left with regions of the image that have high horizontal gradients \n",
    "and low vertical gradients\n",
    "'''\n",
    "gradient = cv2.subtract(gradX, gradY)\n",
    "\n",
    "gradient = cv2.convertScaleAbs(gradient)\n",
    "\n",
    "cv2.imshow(\"gray\",gradient)\n",
    "cv2.waitKey(0)\n",
    "cv2.destroyAllWindows()\n",
    "\n"
   ]
  },
  {
   "cell_type": "markdown",
   "metadata": {},
   "source": [
    "# filter out the noise in the image and focus solely on the barcode region."
   ]
  },
  {
   "cell_type": "code",
   "execution_count": 11,
   "metadata": {},
   "outputs": [],
   "source": [
    "# blur and threshold the image\n",
    "\n",
    "# smooth out high frequency noise in the gradient representation of the image.\n",
    "blurred = cv2.blur(gradient, (9, 9))\n",
    "#Any pixel in the gradient image that is not greater than 225 is set to 0 (black). Otherwise, the pixel is set to 255 (white).\n",
    "(_, thresh) = cv2.threshold(blurred, 225, 255, cv2.THRESH_BINARY)\n",
    "\n",
    "cv2.imshow(\"thresh\",thresh)\n",
    "cv2.waitKey(0)\n",
    "cv2.destroyAllWindows()\n",
    "\n"
   ]
  },
  {
   "cell_type": "markdown",
   "metadata": {},
   "source": [
    "<b>close these gaps </b>and make it easier for our algorithm to detect the “blob”-like region of the barcode, we’ll need to perform some basic morphological operations:"
   ]
  },
  {
   "cell_type": "code",
   "execution_count": 12,
   "metadata": {},
   "outputs": [],
   "source": [
    "# construct a closing kernel and apply it to the thresholded image\n",
    "\n",
    "#This kernel has a width that is larger than the height, thus allowing us to close the gaps between vertical stripes of the barcode.\n",
    "kernel = cv2.getStructuringElement(cv2.MORPH_RECT, (21, 7))\n",
    "#applying kernal to the image\n",
    "closed = cv2.morphologyEx(thresh, cv2.MORPH_CLOSE, kernel)\n",
    "cv2.imshow(\"close\",closed)\n",
    "cv2.waitKey(0)\n",
    "cv2.destroyAllWindows()"
   ]
  },
  {
   "cell_type": "markdown",
   "metadata": {},
   "source": [
    "we have some <b>other blobs in image that are irrelevannt </b>not a part of barcode so remove them"
   ]
  },
  {
   "cell_type": "code",
   "execution_count": 13,
   "metadata": {},
   "outputs": [],
   "source": [
    "'''\n",
    "An erosion will “erode” the white pixels in the image, thus removing the small blobs, \n",
    "whereas a dilation will “dilate” the remaining white pixels and grow the white regions back out.\n",
    "'''\n",
    "# perform a series of erosions and dilations\n",
    "closed = cv2.erode(closed, None, iterations = 4)\n",
    "closed = cv2.dilate(closed, None, iterations = 4)\n",
    "cv2.imshow(\"close\",closed)\n",
    "cv2.waitKey(0)\n",
    "cv2.destroyAllWindows()"
   ]
  },
  {
   "cell_type": "markdown",
   "metadata": {},
   "source": [
    "# contours of the barcoded region of the image:"
   ]
  },
  {
   "cell_type": "code",
   "execution_count": null,
   "metadata": {},
   "outputs": [],
   "source": [
    "\n",
    "# find the contours in the thresholded image, then sort the contours\n",
    "# by their area, keeping only the largest one\n",
    "cnts = cv2.findContours(closed.copy(), cv2.RETR_EXTERNAL,cv2.CHAIN_APPROX_SIMPLE)\n",
    "cnts = imutils.grab_contours(cnts)\n",
    "c = sorted(cnts, key = cv2.contourArea, reverse = True)[0]\n",
    "\n",
    "# compute the rotated bounding box of the largest contour\n",
    "rect = cv2.minAreaRect(c)\n",
    "box = cv2.cv.BoxPoints(rect) if imutils.is_cv2() else cv2.boxPoints(rect)\n",
    "box = np.int0(box)\n",
    "\n",
    "# draw a bounding box arounded the detected barcode and display the\n",
    "# image\n",
    "cv2.drawContours(image, [box], -1, (0, 255, 0), 3)\n",
    "cv2.imshow(\"Image\", image)\n",
    "cv2.waitKey(0)\n",
    "cv2.destroyAllWindows()"
   ]
  },
  {
   "cell_type": "code",
   "execution_count": null,
   "metadata": {},
   "outputs": [],
   "source": []
  },
  {
   "cell_type": "code",
   "execution_count": null,
   "metadata": {},
   "outputs": [],
   "source": []
  }
 ],
 "metadata": {
  "kernelspec": {
   "display_name": "Python 3",
   "language": "python",
   "name": "python3"
  },
  "language_info": {
   "codemirror_mode": {
    "name": "ipython",
    "version": 3
   },
   "file_extension": ".py",
   "mimetype": "text/x-python",
   "name": "python",
   "nbconvert_exporter": "python",
   "pygments_lexer": "ipython3",
   "version": "3.7.3"
  }
 },
 "nbformat": 4,
 "nbformat_minor": 2
}
