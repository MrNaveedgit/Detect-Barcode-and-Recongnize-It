{
 "cells": [
  {
   "cell_type": "code",
   "execution_count": 1,
   "metadata": {},
   "outputs": [],
   "source": [
    "\n",
    "# import the necessary packages\n",
    "from nav import simple_barcode_detection\n",
    "from imutils.video import VideoStream\n",
    "import argparse\n",
    "import time\n",
    "import cv2\n",
    "\n",
    "vs = VideoStream(src=0).start()\n",
    "time.sleep(2.0)\n",
    "\n"
   ]
  },
  {
   "cell_type": "markdown",
   "metadata": {},
   "source": [
    "<h3>Component #1:</h3><br> A module that handles detecting barcodes in images.<br>\n",
    "<h3>\n",
    "Component #2:</h3><br>\n",
    "A driver program that obtains access to a video feed and runs the barcode detection module."
   ]
  },
  {
   "cell_type": "code",
   "execution_count": null,
   "metadata": {},
   "outputs": [],
   "source": [
    "\n",
    "# keep looping over the frames\n",
    "while True:\n",
    "    # grab the current frame and then handle if the frame is returned\n",
    "    # from either the 'VideoCapture' or 'VideoStream' object,\n",
    "    # respectively\n",
    "    frame = vs.read()\n",
    "    #frame = frame[1] if args.get(\"video\", False) else frame\n",
    "    \n",
    "    # check to see if we have reached the end of the\n",
    "    # video\n",
    "    if frame is None:\n",
    "        break\n",
    "\n",
    "    # detect the barcode in the image\n",
    "    box = simple_barcode_detection.detect(frame)\n",
    "\n",
    "    # if a barcode was found, draw a bounding box on the frame\n",
    "    if box is not None:\n",
    "        cv2.drawContours(frame, [box], -1, (0, 255, 0), 2)\n",
    "\n",
    "    # show the frame and record if the user presses a key\n",
    "    cv2.imshow(\"Frame\", frame)\n",
    "    key = cv2.waitKey(1) & 0xFF\n",
    "\n",
    "    # if the 'q' key is pressed, stop the loop\n",
    "    if key == ord(\"q\"):\n",
    "        break\n",
    "\n",
    "# if we are not using a video file, stop the video file stream\n",
    "if not args.get(\"video\", False):\n",
    "    vs.stop()\n",
    "\n",
    "# otherwise, release the camera pointer\n",
    "else:\n",
    "    vs.release()\n",
    "\n",
    "# close all windows\n",
    "cv2.destroyAllWindows()"
   ]
  }
 ],
 "metadata": {
  "kernelspec": {
   "display_name": "Python 3",
   "language": "python",
   "name": "python3"
  },
  "language_info": {
   "codemirror_mode": {
    "name": "ipython",
    "version": 3
   },
   "file_extension": ".py",
   "mimetype": "text/x-python",
   "name": "python",
   "nbconvert_exporter": "python",
   "pygments_lexer": "ipython3",
   "version": "3.7.3"
  }
 },
 "nbformat": 4,
 "nbformat_minor": 2
}
